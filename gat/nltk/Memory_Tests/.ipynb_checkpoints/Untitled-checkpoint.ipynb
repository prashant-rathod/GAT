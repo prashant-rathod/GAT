{
 "cells": [
  {
   "cell_type": "code",
   "execution_count": 2,
   "metadata": {
    "collapsed": true
   },
   "outputs": [],
   "source": [
    "import os\n",
    "import shutil"
   ]
  },
  {
   "cell_type": "code",
   "execution_count": 5,
   "metadata": {
    "scrolled": true
   },
   "outputs": [
    {
     "name": "stdout",
     "output_type": "stream",
     "text": [
      "[]\n"
     ]
    }
   ],
   "source": [
    "file_path = \"/home/daniel/nltk_data/corpora/\"\n",
    "#print(len(os.listdir(file_path)))\n",
    "corpora_actual = [x for x in os.listdir(file_path) if x[-4:] != '.zip']\n",
    "print(len(corpora_actual))\n",
    "\n",
    "corpora_zips = [x[:-4] for x in os.listdir(file_path) if x[-4:] == '.zip']\n",
    "#print((corpora_zips))\n",
    "difference = list(set(corpora_zips) - set(corpora_actual))\n",
    "print(difference)\n",
    "#shutil.rmtree(file_path + corpora[0])\n",
    "#print(os.listdir(file_path))\n",
    "\n",
    "#shutil.copyfile('/home/daniel/nltk_data (copy)/corpora/' + corpora[0], file_path + corpora[0])\n",
    "#print(os.listdir(file_path))"
   ]
  },
  {
   "cell_type": "code",
   "execution_count": 74,
   "metadata": {},
   "outputs": [
    {
     "name": "stdout",
     "output_type": "stream",
     "text": [
      "subjectivity\n"
     ]
    }
   ],
   "source": [
    "print(corpora_actual[0])\n",
    "shutil.rmtree(file_path + corpora_actual[0])\n"
   ]
  },
  {
   "cell_type": "code",
   "execution_count": 36,
   "metadata": {
    "collapsed": true
   },
   "outputs": [],
   "source": [
    "#shutil.copyfile(copy_file_path + difference[0], file_path + difference[0])\n"
   ]
  },
  {
   "cell_type": "code",
   "execution_count": 4,
   "metadata": {
    "collapsed": true
   },
   "outputs": [],
   "source": [
    "import zipfile\n",
    "for file in difference:\n",
    "    zip_ref = zipfile.ZipFile(file_path + file + \".zip\", 'r')\n",
    "    zip_ref.extractall(file_path)\n",
    "zip_ref.close()"
   ]
  },
  {
   "cell_type": "code",
   "execution_count": null,
   "metadata": {
    "collapsed": true
   },
   "outputs": [],
   "source": []
  }
 ],
 "metadata": {
  "kernelspec": {
   "display_name": "Python 3",
   "language": "python",
   "name": "python3"
  },
  "language_info": {
   "codemirror_mode": {
    "name": "ipython",
    "version": 3
   },
   "file_extension": ".py",
   "mimetype": "text/x-python",
   "name": "python",
   "nbconvert_exporter": "python",
   "pygments_lexer": "ipython3",
   "version": "3.6.3"
  }
 },
 "nbformat": 4,
 "nbformat_minor": 2
}
